{
 "cells": [
  {
   "cell_type": "code",
   "execution_count": 1,
   "metadata": {},
   "outputs": [
    {
     "name": "stdout",
     "output_type": "stream",
     "text": [
      "NITISH KUMAR\n"
     ]
    }
   ],
   "source": [
    "print(\"NITISH KUMAR\")"
   ]
  },
  {
   "cell_type": "code",
   "execution_count": 6,
   "metadata": {},
   "outputs": [
    {
     "name": "stdout",
     "output_type": "stream",
     "text": [
      "[4.0, 5.0, 6.0]\n"
     ]
    }
   ],
   "source": [
    "def average_finder(*args):\n",
    "    avg =[]\n",
    "    for pair in zip(*args):\n",
    "        avg.append(sum(pair)/len(pair))\n",
    "    return avg\n",
    "\n",
    "print(average_finder([1,2,3],[4,5,6],[7,8,9]))"
   ]
  },
  {
   "cell_type": "code",
   "execution_count": 7,
   "metadata": {},
   "outputs": [
    {
     "name": "stdout",
     "output_type": "stream",
     "text": [
      "[4.0, 5.0, 6.0]\n"
     ]
    }
   ],
   "source": [
    "average = lambda *args : [sum(pair)/len(pair) for pair in zip(*args)] \n",
    "print(average([1,2,3,], [4,5,6], [7,8,9]))"
   ]
  },
  {
   "cell_type": "code",
   "execution_count": 13,
   "metadata": {},
   "outputs": [
    {
     "name": "stdout",
     "output_type": "stream",
     "text": [
      "bhaskar\n"
     ]
    }
   ],
   "source": [
    "students= {\n",
    "    'nitish' :{'score' :50,'age' :24},\n",
    "    'bhaskar' :{'score':75,'age' :19},\n",
    "    'bhaskar' :{'score':76,'age' :25}\n",
    "}\n",
    "\n",
    "print(max(students, key = lambda item:students[item]['age']))\n"
   ]
  },
  {
   "cell_type": "code",
   "execution_count": null,
   "metadata": {},
   "outputs": [],
   "source": []
  }
 ],
 "metadata": {
  "kernelspec": {
   "display_name": "Python 3",
   "language": "python",
   "name": "python3"
  },
  "language_info": {
   "codemirror_mode": {
    "name": "ipython",
    "version": 3
   },
   "file_extension": ".py",
   "mimetype": "text/x-python",
   "name": "python",
   "nbconvert_exporter": "python",
   "pygments_lexer": "ipython3",
   "version": "3.7.4"
  }
 },
 "nbformat": 4,
 "nbformat_minor": 2
}
