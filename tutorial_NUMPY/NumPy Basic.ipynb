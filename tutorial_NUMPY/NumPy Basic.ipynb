{
 "cells": [
  {
   "cell_type": "markdown",
   "id": "ba33ad2c",
   "metadata": {},
   "source": [
    "Numpy enables fast computation in Python, the underlying implementation is in C, hence it's blazing fast.The Key feature of Numpy is the ndarray object. The data type should be homogenous, that is the array should contain elements of single data type."
   ]
  },
  {
   "cell_type": "code",
   "execution_count": 1,
   "id": "de0dbe5e",
   "metadata": {},
   "outputs": [],
   "source": [
    "import numpy as np"
   ]
  },
  {
   "cell_type": "code",
   "execution_count": 2,
   "id": "9aa79eaf",
   "metadata": {},
   "outputs": [
    {
     "name": "stdout",
     "output_type": "stream",
     "text": [
      "Vector :[1 2 3 4 5]\n",
      "Shape :(5,)\n",
      "Dim : 1\n",
      "Data type :int32\n"
     ]
    }
   ],
   "source": [
    "vector = np.array([1,2,3,4,5])\n",
    "print(f\"Vector :{vector}\")\n",
    "\n",
    "# Every array will have a shape. That is , its dimensions.\n",
    "print(f\"Shape :{vector.shape}\")\n",
    "\n",
    "# Print number of Dimension\n",
    "print(f\"Dim : {vector.ndim}\")\n",
    "print(f\"Data type :{vector.dtype}\")"
   ]
  },
  {
   "cell_type": "markdown",
   "id": "c579d720",
   "metadata": {},
   "source": [
    "The number of dimensions numpy uses is as follows:\n",
    "\n",
    "(depth, rows, columns)\n",
    "\n",
    "So, a 3D array of a 3 rows 2 columns and 2 depth will have following shape:\n",
    "(2,3,2)\n",
    "\n"
   ]
  },
  {
   "cell_type": "code",
   "execution_count": 9,
   "id": "23966e99",
   "metadata": {},
   "outputs": [
    {
     "name": "stdout",
     "output_type": "stream",
     "text": [
      "[[[ 1  2]\n",
      "  [ 3  4]\n",
      "  [ 5  6]]\n",
      "\n",
      " [[ 7  8]\n",
      "  [ 9 10]\n",
      "  [11 12]]]\n"
     ]
    }
   ],
   "source": [
    "a = np.array([1,2,3,4,5,6,7,8,9,10,11,12])\n",
    "a.shape = (2,3,2)\n",
    "\n",
    "print(a)"
   ]
  },
  {
   "cell_type": "code",
   "execution_count": 13,
   "id": "95d0d4ca",
   "metadata": {},
   "outputs": [
    {
     "name": "stdout",
     "output_type": "stream",
     "text": [
      "[[[0.]\n",
      "  [0.]\n",
      "  [0.]\n",
      "  [0.]\n",
      "  [0.]\n",
      "  [0.]\n",
      "  [0.]\n",
      "  [0.]]\n",
      "\n",
      " [[0.]\n",
      "  [0.]\n",
      "  [0.]\n",
      "  [0.]\n",
      "  [0.]\n",
      "  [0.]\n",
      "  [0.]\n",
      "  [0.]]\n",
      "\n",
      " [[0.]\n",
      "  [0.]\n",
      "  [0.]\n",
      "  [0.]\n",
      "  [0.]\n",
      "  [0.]\n",
      "  [0.]\n",
      "  [0.]]]\n"
     ]
    }
   ],
   "source": [
    "a = np.zeros((3,8,1))\n",
    "print(a)"
   ]
  },
  {
   "cell_type": "markdown",
   "id": "f8d574bd",
   "metadata": {},
   "source": [
    "### arange"
   ]
  },
  {
   "cell_type": "markdown",
   "id": "9a66f975",
   "metadata": {},
   "source": [
    "The arange function is similar to Python's range function. The data type, if not specified, in many cases will be np.foat64"
   ]
  },
  {
   "cell_type": "code",
   "execution_count": 14,
   "id": "faf8cb12",
   "metadata": {},
   "outputs": [
    {
     "name": "stdout",
     "output_type": "stream",
     "text": [
      "[ 0  1  2  3  4  5  6  7  8  9 10 11 12 13 14]\n"
     ]
    }
   ],
   "source": [
    "a = np.arange(15)\n",
    "print(a)"
   ]
  },
  {
   "cell_type": "markdown",
   "id": "ce1f4f99",
   "metadata": {},
   "source": [
    "### zeros, zeros_like"
   ]
  },
  {
   "cell_type": "markdown",
   "id": "0d50f0df",
   "metadata": {},
   "source": [
    "zeros(dim) will return a np.array of dim dimensions initialised with 0. Note that dim should be tuple.\n",
    "\n",
    "zeros_like(array) will return a np.array of same dimensions as of array initialised with zeros.\n",
    "\n"
   ]
  },
  {
   "cell_type": "markdown",
   "id": "f7428172",
   "metadata": {},
   "source": [
    "same functionality is with ones, and ones_like except of course the initialization is done with ones.\n",
    "\n",
    "same functionality wit empty, and empty_like which will create numpy arrays but won't initialise it with anything(hence, faster). By default, all the values in the array will have garbage values."
   ]
  },
  {
   "cell_type": "code",
   "execution_count": 16,
   "id": "15b894f3",
   "metadata": {},
   "outputs": [
    {
     "name": "stdout",
     "output_type": "stream",
     "text": [
      "Zeros\n",
      "A: [[0. 0. 0.]\n",
      " [0. 0. 0.]\n",
      " [0. 0. 0.]]\n",
      "B: [[0. 0. 0.]\n",
      " [0. 0. 0.]\n",
      " [0. 0. 0.]]\n"
     ]
    }
   ],
   "source": [
    "print(\"Zeros\")\n",
    "a = np.zeros((3,3))\n",
    "print(f\"A: {a}\")\n",
    "\n",
    "b = np.zeros_like(a)\n",
    "print(f\"B: {b}\")"
   ]
  },
  {
   "cell_type": "code",
   "execution_count": 17,
   "id": "aecf045d",
   "metadata": {},
   "outputs": [
    {
     "name": "stdout",
     "output_type": "stream",
     "text": [
      "Ones\n",
      "A: [[1. 1. 1.]\n",
      " [1. 1. 1.]\n",
      " [1. 1. 1.]]\n",
      "B: [[1. 1. 1.]\n",
      " [1. 1. 1.]\n",
      " [1. 1. 1.]]\n"
     ]
    }
   ],
   "source": [
    "print(\"Ones\")\n",
    "a = np.ones((3,3))\n",
    "print(f\"A: {a}\")\n",
    "\n",
    "b = np.ones_like(a)\n",
    "print(f\"B: {b}\")"
   ]
  },
  {
   "cell_type": "code",
   "execution_count": 18,
   "id": "34477bb7",
   "metadata": {},
   "outputs": [
    {
     "name": "stdout",
     "output_type": "stream",
     "text": [
      "Empty\n",
      "A: [[1. 1. 1.]\n",
      " [1. 1. 1.]\n",
      " [1. 1. 1.]]\n",
      "B: [[1. 1. 1.]\n",
      " [1. 1. 1.]\n",
      " [1. 1. 1.]]\n"
     ]
    }
   ],
   "source": [
    "print(\"Empty\")\n",
    "a = np.empty((3,3))\n",
    "print(f\"A: {a}\")\n",
    "\n",
    "b = np.empty_like(a)\n",
    "print(f\"B: {b}\")"
   ]
  },
  {
   "cell_type": "markdown",
   "id": "29329d0d",
   "metadata": {},
   "source": [
    "### astype"
   ]
  },
  {
   "cell_type": "markdown",
   "id": "72f85ecc",
   "metadata": {},
   "source": [
    "astype will convert one data type to another. Also note that astype will create a new copy of the input array (even if the data type is same).\n",
    "\n",
    "Also, converting from higher precision (like float) to lower precision (like int) will cause loss of information (decimal part is lost in case of float to int)."
   ]
  },
  {
   "cell_type": "code",
   "execution_count": 21,
   "id": "bd50778d",
   "metadata": {},
   "outputs": [
    {
     "name": "stdout",
     "output_type": "stream",
     "text": [
      "A :[1.  2.  3.  4.5 6.  7.  8.  9. ], dtype :float64\n",
      "B :[1 2 3 4 6 7 8 9], dtype :int32\n"
     ]
    }
   ],
   "source": [
    "a = np.array([1,2,3,4.5,6,7,8,9])\n",
    "print(f\"A :{a}, dtype :{a.dtype}\")\n",
    "\n",
    "b = a.astype(int)\n",
    "print(f\"B :{b}, dtype :{b.dtype}\")\n"
   ]
  },
  {
   "cell_type": "markdown",
   "id": "1d9a411a",
   "metadata": {},
   "source": [
    "### Vectorization and vector-scalar operations"
   ]
  },
  {
   "cell_type": "markdown",
   "id": "714da14b",
   "metadata": {},
   "source": [
    "Using for loops in code is not only prone to error but also is inefficient. We can use NumPy operaton to circumvent such for loops.\n",
    "This process is called vectorization."
   ]
  },
  {
   "cell_type": "markdown",
   "id": "4d7a8cd3",
   "metadata": {},
   "source": [
    "###### Using operations on same sized arrays produce element wise operations."
   ]
  },
  {
   "cell_type": "code",
   "execution_count": 23,
   "id": "520944d5",
   "metadata": {},
   "outputs": [
    {
     "name": "stdout",
     "output_type": "stream",
     "text": [
      "[[5 7 9]\n",
      " [5 7 9]]\n",
      "[[-3 -3 -3]\n",
      " [ 3  3  3]]\n",
      "[[ 4 10 18]\n",
      " [ 4 10 18]]\n"
     ]
    }
   ],
   "source": [
    "a = np.array([[1,2,3],[4,5,6]])\n",
    "b = np.array([[4,5,6],[1,2,3]])\n",
    "\n",
    "c = a + b\n",
    "print(c)\n",
    "\n",
    "d = a - b\n",
    "print(d)\n",
    "\n",
    "m = a * b\n",
    "print(m)"
   ]
  },
  {
   "cell_type": "markdown",
   "id": "1829d903",
   "metadata": {},
   "source": [
    "Using scalars with vectors will produce element wise operations."
   ]
  },
  {
   "cell_type": "code",
   "execution_count": 24,
   "id": "3d577d0e",
   "metadata": {},
   "outputs": [
    {
     "name": "stdout",
     "output_type": "stream",
     "text": [
      "[[4 5 6]\n",
      " [7 8 9]]\n",
      "[[ 3  6  9]\n",
      " [12 15 18]]\n",
      "[[1.         0.5        0.33333333]\n",
      " [0.25       0.2        0.16666667]]\n"
     ]
    }
   ],
   "source": [
    "a = 3\n",
    "b = np.array([[1,2,3],[4,5,6]])\n",
    "\n",
    "c = a + b\n",
    "print(c)\n",
    "\n",
    "c = a * b\n",
    "print(c)\n",
    "\n",
    "c = 1.0 / b\n",
    "print(c)"
   ]
  },
  {
   "cell_type": "markdown",
   "id": "323549e4",
   "metadata": {},
   "source": [
    "### Slicing"
   ]
  },
  {
   "cell_type": "markdown",
   "id": "7667657f",
   "metadata": {},
   "source": [
    "You can slice by following syntax:\n",
    "\n",
    "     array[start_index : end_index]\n",
    "\n",
    "For n-dimensional array:\n",
    "\n",
    "    array[start_index : end_index, start_index:end_index]\n",
    "    \n",
    "Slicing NumPy arrays is similar to that of Python lists. One man distinction in Python list and NumPy array is that the slice is not the copy, but the original array. Hence, if any operations on the slice will be reflected in the original array."
   ]
  },
  {
   "cell_type": "code",
   "execution_count": 25,
   "id": "c0b15c9e",
   "metadata": {},
   "outputs": [
    {
     "name": "stdout",
     "output_type": "stream",
     "text": [
      "[ 0  1  2  3  4  5  6  7  8  9 10 11 12 13 14 15 16 17 18 19]\n",
      "[ 0  1  2  3  4  5  6  7  8  9  5  5  5  5  5 15 16 17 18 19]\n"
     ]
    }
   ],
   "source": [
    "a = np.arange(20)\n",
    "print(a)\n",
    "a[10:15] = 5\n",
    "print(a)"
   ]
  },
  {
   "cell_type": "markdown",
   "id": "7ef1e2fe",
   "metadata": {},
   "source": [
    "If you want to avoid above scenario, you can use copy()"
   ]
  },
  {
   "cell_type": "code",
   "execution_count": 27,
   "id": "bafbf79f",
   "metadata": {},
   "outputs": [
    {
     "name": "stdout",
     "output_type": "stream",
     "text": [
      "[ 0  1  2  3  4  5  6  7  8  9 10 11 12 13 14 15 16 17 18 19]\n",
      "[10 11 12 13 14]\n",
      "[ 0  1  2  3  4  5  6  7  8  9 10 11 12 13 14 15 16 17 18 19]\n"
     ]
    }
   ],
   "source": [
    "a = np.arange(20)\n",
    "print(a)\n",
    "b = a[10:15].copy()\n",
    "# value of the original array doesn't change\n",
    "print(b)\n",
    "print(a)"
   ]
  },
  {
   "cell_type": "markdown",
   "id": "0af78226",
   "metadata": {},
   "source": [
    "### Boolean indexing"
   ]
  },
  {
   "cell_type": "markdown",
   "id": "ca46da7d",
   "metadata": {},
   "source": [
    "Using boolen indexing, you can use it to filter or check if any entries have any specific values."
   ]
  },
  {
   "cell_type": "code",
   "execution_count": 28,
   "id": "ce2055ef",
   "metadata": {},
   "outputs": [
    {
     "data": {
      "text/plain": [
       "array([False,  True, False, False, False])"
      ]
     },
     "execution_count": 28,
     "metadata": {},
     "output_type": "execute_result"
    }
   ],
   "source": [
    "a = np.array([\"ramesh\", \"suresh\", \"aadesh\", \"rakesh\", \"parvesh\"])\n",
    "a == \"suresh\""
   ]
  },
  {
   "cell_type": "code",
   "execution_count": 29,
   "id": "67794ac6",
   "metadata": {},
   "outputs": [
    {
     "data": {
      "text/plain": [
       "array(['ramesh', 'aadesh', 'rakesh', 'parvesh'], dtype='<U7')"
      ]
     },
     "execution_count": 29,
     "metadata": {},
     "output_type": "execute_result"
    }
   ],
   "source": [
    "# lists entry where value != \"suresh\"\n",
    "a[~(a == \"suresh\")]"
   ]
  },
  {
   "cell_type": "markdown",
   "id": "d0fb7566",
   "metadata": {},
   "source": [
    "###### You can use | for or & for and but not Python's and, or will not work with NumPy's indexing"
   ]
  },
  {
   "cell_type": "code",
   "execution_count": 30,
   "id": "d0899222",
   "metadata": {},
   "outputs": [
    {
     "data": {
      "text/plain": [
       "array([False,  True, False,  True, False])"
      ]
     },
     "execution_count": 30,
     "metadata": {},
     "output_type": "execute_result"
    }
   ],
   "source": [
    "(a == \"suresh\") | (a == \"rakesh\")"
   ]
  },
  {
   "cell_type": "markdown",
   "id": "14b3b7c0",
   "metadata": {},
   "source": [
    "### Fancy indexing"
   ]
  },
  {
   "cell_type": "markdown",
   "id": "6bd041ba",
   "metadata": {},
   "source": [
    "You can index a list to print the array in the given order. For instance, you want to print the 1st row, 3rd row and 2nd row in that order. "
   ]
  },
  {
   "cell_type": "code",
   "execution_count": 32,
   "id": "c0bf5435",
   "metadata": {},
   "outputs": [
    {
     "name": "stdout",
     "output_type": "stream",
     "text": [
      "[[1 1 1]\n",
      " [2 2 2]\n",
      " [3 3 3]\n",
      " [4 4 4]]\n"
     ]
    },
    {
     "data": {
      "text/plain": [
       "array([[2, 2, 2],\n",
       "       [4, 4, 4],\n",
       "       [3, 3, 3]])"
      ]
     },
     "execution_count": 32,
     "metadata": {},
     "output_type": "execute_result"
    }
   ],
   "source": [
    "a = np.array([[1,1,1],[2,2,2],[3,3,3],[4,4,4]])\n",
    "print(a)\n",
    "a[[1,3,2]]"
   ]
  },
  {
   "cell_type": "markdown",
   "id": "a0fb67a4",
   "metadata": {},
   "source": [
    "### Transposing"
   ]
  },
  {
   "cell_type": "markdown",
   "id": "6b060b10",
   "metadata": {},
   "source": [
    "You can obtains the transpose of your matrix using matrix.T where matrix is your matrix name"
   ]
  },
  {
   "cell_type": "code",
   "execution_count": 33,
   "id": "09fb6586",
   "metadata": {},
   "outputs": [
    {
     "name": "stdout",
     "output_type": "stream",
     "text": [
      "[[1 2 3 4]\n",
      " [1 2 3 4]\n",
      " [1 2 3 4]]\n"
     ]
    }
   ],
   "source": [
    "a = np.array([[1,1,1],[2,2,2],[3,3,3],[4,4,4]])\n",
    "print(a.T)"
   ]
  },
  {
   "cell_type": "markdown",
   "id": "8fe76f10",
   "metadata": {},
   "source": [
    "### Universal Functions"
   ]
  },
  {
   "cell_type": "markdown",
   "id": "8a2a697e",
   "metadata": {},
   "source": [
    "NumPy has variety of functions that can be applied to scalars as well as vectors. Some examples are sqrt, exp, log, log10, sin , cos, etc."
   ]
  },
  {
   "cell_type": "code",
   "execution_count": 34,
   "id": "92e659d6",
   "metadata": {},
   "outputs": [
    {
     "name": "stdout",
     "output_type": "stream",
     "text": [
      "485165195.4097903\n",
      "[[2.51406066 1.00664691]\n",
      " [2.33869787 1.48586741]]\n"
     ]
    }
   ],
   "source": [
    "a = 20\n",
    "b = np.random.rand(2,2)\n",
    "print(np.exp(a))\n",
    "print(np.exp(b))"
   ]
  },
  {
   "cell_type": "markdown",
   "id": "d7fdd2f9",
   "metadata": {},
   "source": [
    "### meshgrid"
   ]
  },
  {
   "cell_type": "markdown",
   "id": "44fec9f2",
   "metadata": {},
   "source": [
    "One of the most useful function is meshgrid. It's used to visualize data boundaries of your classifier. What you do is train your classifier, then create a meshgrid of every pixel in the plot, and then classify the pixel. When you give the pixel a specific color according to the labelled class you can clearly visualize the boundaries.\n",
    "\n",
    "Using meshgrid requires three steps.\n",
    "\n",
    "    1. Create xs (1D array)\n",
    "    2. Create ys (1D array)\n",
    "    3. Create meshgrid (2D array) which corresponds to every pixel in the graph.\n"
   ]
  },
  {
   "cell_type": "code",
   "execution_count": 38,
   "id": "21a87bda",
   "metadata": {},
   "outputs": [],
   "source": [
    "xs = np.linspace(1, 10, 100)\n",
    "ys = np.linspace(1, 10, 100)\n",
    "\n",
    "xx, yy = np.meshgrid(xs, ys)\n",
    "# plot with xx and yy"
   ]
  },
  {
   "cell_type": "markdown",
   "id": "7f9f6044",
   "metadata": {},
   "source": [
    "### where"
   ]
  },
  {
   "cell_type": "markdown",
   "id": "dd1d6ea1",
   "metadata": {},
   "source": [
    "If you have 3 arrays x, y and condition then, np.where is replacement for using:\n",
    "\n",
    "    if condition:\n",
    "        use x\n",
    "    else:\n",
    "        use y"
   ]
  },
  {
   "cell_type": "code",
   "execution_count": 39,
   "id": "c3d7a8e4",
   "metadata": {},
   "outputs": [
    {
     "data": {
      "text/plain": [
       "array([ 0,  3,  2,  3,  2, -5])"
      ]
     },
     "execution_count": 39,
     "metadata": {},
     "output_type": "execute_result"
    }
   ],
   "source": [
    "a = [0,-1,2,3,-4,-5]\n",
    "b = [9,3,4,11,2,3]\n",
    "c = [True, False, True, True, False, True]\n",
    "np.where(c, a, b)"
   ]
  },
  {
   "cell_type": "markdown",
   "id": "2fa5c2e8",
   "metadata": {},
   "source": [
    "### mean, sum, std"
   ]
  },
  {
   "cell_type": "markdown",
   "id": "c02b6dad",
   "metadata": {},
   "source": [
    "NumPY provides variety of functions for statistical use. You can furthermore specify the axis you want to reduce."
   ]
  },
  {
   "cell_type": "code",
   "execution_count": 40,
   "id": "03fb8f41",
   "metadata": {},
   "outputs": [
    {
     "name": "stdout",
     "output_type": "stream",
     "text": [
      "[[0.63296933 0.1877776  0.19109017]\n",
      " [0.10336466 0.09954088 0.05026692]\n",
      " [0.89597247 0.52586115 0.37208226]]\n",
      "0.3398806031309812\n",
      "0.3398806031309812\n",
      "0.27358075082412686\n"
     ]
    }
   ],
   "source": [
    "a = np.random.rand(3,3)\n",
    "print(a)\n",
    "print(np.mean(a))  # both are fine\n",
    "print(a.mean())\n",
    "\n",
    "print(np.std(a))"
   ]
  },
  {
   "cell_type": "code",
   "execution_count": null,
   "id": "4f388e83",
   "metadata": {},
   "outputs": [],
   "source": []
  }
 ],
 "metadata": {
  "kernelspec": {
   "display_name": "Python 3 (ipykernel)",
   "language": "python",
   "name": "python3"
  },
  "language_info": {
   "codemirror_mode": {
    "name": "ipython",
    "version": 3
   },
   "file_extension": ".py",
   "mimetype": "text/x-python",
   "name": "python",
   "nbconvert_exporter": "python",
   "pygments_lexer": "ipython3",
   "version": "3.9.7"
  }
 },
 "nbformat": 4,
 "nbformat_minor": 5
}
